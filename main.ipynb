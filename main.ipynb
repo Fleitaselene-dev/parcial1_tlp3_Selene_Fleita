{
 "cells": [
  {
   "cell_type": "markdown",
   "id": "9fee5ee9",
   "metadata": {},
   "source": [
    "# Examen Parcial n°1 2da Parte - TLP3 - Python para Ciencia de Datos.\n"
   ]
  },
  {
   "cell_type": "markdown",
   "id": "999099d0",
   "metadata": {},
   "source": [
    "**A partir del datasets brindado, realizar los siguientes procedimientos:**\n",
    "\n",
    "* Importar datasets con Pandas.\n",
    "* Explorar los datos con los metodos correspondientes. \n",
    "* Limpieza de los datos (Normalización de datos).\n",
    "* Obtener estadisticas.\n",
    "* Mostrar los datos procesados con graficos utilizando la libreria Matplotlib.\n",
    "* Exportar el contenido a un archivo sqlite utilizando PANDAS.\n",
    "\n",
    "\n",
    "**Importante: Se debe documentar cada procedimiento realizado, siguiendo la siguiente estructura:**\n",
    "\n",
    "1. Celda de Markdown (Documentación)\n",
    "2. Código (Sin comentarios, se debe documentar lo sufiente solo en la celda de markdown).\n",
    "\n",
    "\n",
    "### Criterios de Evaluación:\n",
    "\n",
    "1. No esta permitido el uso de IAs durante el examen. (Desactivar Copilot o cualquier herramienta de IA para autocompletar codigo.)\n",
    "\n",
    "2. Se deben utilizar nombres de variables descriptivos y claros (Utilizar la nomeclatura correspondiente para los nombres de variables).\n",
    "\n",
    "3. Comentarios claros y concisos que expliquen el propósito de cada sección del código en una celda de markdown antes del código.\n",
    "\n",
    "4. Utilizar mensajes de commit descriptivos. (Puedes utilizar la extension CONVENTIONAL COMMIT de VS-CODE).\n",
    "\n",
    "5. Entrega en tiempo y forma (Parciales entregados fuera de hora o con commits pasados el horario de entrega quedará invalidado.)\n",
    "\n",
    "6. Todo el código desarrollado debe ser subido a un repositorio en GitHub (el nombre del repositorio de seguir la siguiente estructura: \n",
    "**parcial1_tlp3_nombre_apellido**).\n",
    "\n",
    "7. Para resolver las actividades se debe insertar casillas de codigo entre cada actividad del cuaderno de Jupyter.\n",
    "\n",
    "8. Deben trabajar con el datasets adjunto.\n",
    "\n",
    "9. Una vez finalizado el examen, los resultados deben quedar guardados debajo de cada celda (NO EJECUTAR LA OPCIÓN \"borrar todas las salidas\").\n",
    "\n",
    "**Importante:** Una vez finalizado el examen, marcar como completado en el classroom."
   ]
  },
  {
   "cell_type": "markdown",
   "id": "dd91f969",
   "metadata": {},
   "source": [
    "## Actividades: \n",
    "### 1. Importación del Dataset con Pandas\n",
    "\n",
    "En esta sección, se debe utilizar la librería Pandas para cargar el archivo CSV que contiene los datos de VOTACIONES en un Datasets.\n",
    "\n",
    "### 2. Exploración Inicial de los Datos\n",
    "\n",
    "A continuación, se deben emplear métodos de Pandas para obtener una visión general del dataset. \n",
    "- 2.1: Visualizar las primeras filas y ultimas.\n",
    "- 2.2: Obtener informacion del df con su metodo correspondiente.\n",
    "- 2.3: Hacer un conteo de valores nulos.\n",
    "\n",
    "### 3. Limpieza y Normalización de los Datos\n",
    "\n",
    "- 3.1. Esta etapa crucial deben aplicar la corrección de diversos errores presentes en el dataset. Se abordarán los valores faltantes (Deben aplicar los metodos que ustedes crean convenientes **(Solo 1)**, por ejemplo: Eliminación de filas, cubrir valores con media, mediana, etc.)\n",
    "- 3.2: La columna Fecha deberan pasarla al tipo datetime con su metodo correspondiente.\n",
    "- 3.3: Corregir las mayusculas en el caso de Nombre y Apellido (Si es que corresponde.)\n",
    "- 3.4: En el caso de los votos, aplicar mayusculas a cada fila.\n",
    "- 3.5 EL campo DNI debe ser del tipo INT.\n",
    "\n",
    "\n",
    "### 4. Obtención de Estadísticas Descriptivas\n",
    "\n",
    "Después de la limpieza, deben hacer lo siguiente: \n",
    "\n",
    "- 4.1: calcular nuevamente las estadísticas descriptivas para observar el impacto del proceso de limpieza en los datos numéricos.\n",
    "- 4.2: Calcular estadísticas específicas por grupo (Agrupar dos columnas).\n",
    "\n",
    "### 5. Visualización de los Datos con Matplotlib\n",
    "\n",
    "En esta sección, deben utilizar la librería Matplotlib para crear **UNA** visualización que permitan comprender mejor los datos de ventas.El grafico es a elección, puede crear **UNO** de los siguientes: histogramas, diagramas de dispersión, gráficos de barras y graficos de torta.\n",
    "\n",
    "### 6. Exportación a Archivo SQLite\n",
    "\n",
    "Finalmente, deben utilizar la funcionalidad de Pandas para guardar el DataFrame procesado en una base de datos SQLite. Deben hacer una conexión y hacer una consulta para ver si los datos fueron cargados correctamente.\n",
    "\n"
   ]
  },
  {
   "cell_type": "markdown",
   "id": "f9f3e06b",
   "metadata": {},
   "source": [
    "## Desarrollo de Actividades"
   ]
  },
  {
   "cell_type": "markdown",
   "id": "902f7c5a",
   "metadata": {},
   "source": [
    "### Importacion de las librerias\n",
    "* Importamos  pandas para el analisis y manejo de datos\n",
    "* Importamos matplotlib para la visualizacion "
   ]
  },
  {
   "cell_type": "code",
   "execution_count": 67,
   "id": "08a704ee",
   "metadata": {},
   "outputs": [],
   "source": [
    "import pandas as pd\n",
    "import matplotlib.pyplot as plt\n",
    "import sqlite3"
   ]
  },
  {
   "cell_type": "markdown",
   "id": "9756b041",
   "metadata": {},
   "source": [
    "### Carga del Archivo csv \n",
    "Carga el archivo `votaciones.csv` a un DataFrame"
   ]
  },
  {
   "cell_type": "code",
   "execution_count": 2,
   "id": "aa5a96fb",
   "metadata": {},
   "outputs": [],
   "source": [
    "df = pd.read_csv(\"votaciones.csv\")\n"
   ]
  },
  {
   "cell_type": "markdown",
   "id": "acda32b0",
   "metadata": {},
   "source": [
    "### Exploracion inicial de datos"
   ]
  },
  {
   "cell_type": "markdown",
   "id": "d550200e",
   "metadata": {},
   "source": [
    "Visualizacion de los primeros 10 elementos de DataFrame: "
   ]
  },
  {
   "cell_type": "code",
   "execution_count": 3,
   "id": "27df5e37",
   "metadata": {},
   "outputs": [
    {
     "data": {
      "text/html": [
       "<div>\n",
       "<style scoped>\n",
       "    .dataframe tbody tr th:only-of-type {\n",
       "        vertical-align: middle;\n",
       "    }\n",
       "\n",
       "    .dataframe tbody tr th {\n",
       "        vertical-align: top;\n",
       "    }\n",
       "\n",
       "    .dataframe thead th {\n",
       "        text-align: right;\n",
       "    }\n",
       "</style>\n",
       "<table border=\"1\" class=\"dataframe\">\n",
       "  <thead>\n",
       "    <tr style=\"text-align: right;\">\n",
       "      <th></th>\n",
       "      <th>nombre</th>\n",
       "      <th>apellido</th>\n",
       "      <th>dni</th>\n",
       "      <th>provincia</th>\n",
       "      <th>voto</th>\n",
       "      <th>fecha_votacion</th>\n",
       "    </tr>\n",
       "  </thead>\n",
       "  <tbody>\n",
       "    <tr>\n",
       "      <th>0</th>\n",
       "      <td>pánfilo</td>\n",
       "      <td>pombo</td>\n",
       "      <td>34787190.0</td>\n",
       "      <td>buenos aires</td>\n",
       "      <td>nulo</td>\n",
       "      <td>2024-11-22</td>\n",
       "    </tr>\n",
       "    <tr>\n",
       "      <th>1</th>\n",
       "      <td>albina</td>\n",
       "      <td>heredia</td>\n",
       "      <td>48336819.0</td>\n",
       "      <td>santa fe</td>\n",
       "      <td>nulo</td>\n",
       "      <td>2024-04-24</td>\n",
       "    </tr>\n",
       "    <tr>\n",
       "      <th>2</th>\n",
       "      <td>NaN</td>\n",
       "      <td>solano</td>\n",
       "      <td>49179364.0</td>\n",
       "      <td>neuquen</td>\n",
       "      <td>nulo</td>\n",
       "      <td>2024-05-20</td>\n",
       "    </tr>\n",
       "    <tr>\n",
       "      <th>3</th>\n",
       "      <td>salomé</td>\n",
       "      <td>barrio</td>\n",
       "      <td>43725639.0</td>\n",
       "      <td>buenos aires</td>\n",
       "      <td>NaN</td>\n",
       "      <td>05-06-2024</td>\n",
       "    </tr>\n",
       "    <tr>\n",
       "      <th>4</th>\n",
       "      <td>matías</td>\n",
       "      <td>esteban</td>\n",
       "      <td>30599927.0</td>\n",
       "      <td>chaco</td>\n",
       "      <td>no</td>\n",
       "      <td>10-07-2023</td>\n",
       "    </tr>\n",
       "    <tr>\n",
       "      <th>5</th>\n",
       "      <td>NaN</td>\n",
       "      <td>sosa</td>\n",
       "      <td>17014535.0</td>\n",
       "      <td>santa fe</td>\n",
       "      <td>sí</td>\n",
       "      <td>02-11-2024</td>\n",
       "    </tr>\n",
       "    <tr>\n",
       "      <th>6</th>\n",
       "      <td>gervasio</td>\n",
       "      <td>bou</td>\n",
       "      <td>33761658.0</td>\n",
       "      <td>mendoza</td>\n",
       "      <td>no</td>\n",
       "      <td>23-09-2023</td>\n",
       "    </tr>\n",
       "    <tr>\n",
       "      <th>7</th>\n",
       "      <td>brígida</td>\n",
       "      <td>angulo</td>\n",
       "      <td>22169546.0</td>\n",
       "      <td>chaco</td>\n",
       "      <td>no</td>\n",
       "      <td>2024-05-02</td>\n",
       "    </tr>\n",
       "    <tr>\n",
       "      <th>8</th>\n",
       "      <td>glauco</td>\n",
       "      <td>fabra</td>\n",
       "      <td>NaN</td>\n",
       "      <td>cordoba</td>\n",
       "      <td>sí</td>\n",
       "      <td>07-06-2023</td>\n",
       "    </tr>\n",
       "    <tr>\n",
       "      <th>9</th>\n",
       "      <td>trinidad</td>\n",
       "      <td>company</td>\n",
       "      <td>12192872.0</td>\n",
       "      <td>neuquen</td>\n",
       "      <td>nulo</td>\n",
       "      <td>30-10-2024</td>\n",
       "    </tr>\n",
       "  </tbody>\n",
       "</table>\n",
       "</div>"
      ],
      "text/plain": [
       "     nombre apellido         dni     provincia  voto fecha_votacion\n",
       "0   pánfilo    pombo  34787190.0  buenos aires  nulo     2024-11-22\n",
       "1    albina  heredia  48336819.0      santa fe  nulo     2024-04-24\n",
       "2       NaN   solano  49179364.0       neuquen  nulo     2024-05-20\n",
       "3    salomé   barrio  43725639.0  buenos aires   NaN     05-06-2024\n",
       "4    matías  esteban  30599927.0         chaco    no     10-07-2023\n",
       "5       NaN     sosa  17014535.0      santa fe    sí     02-11-2024\n",
       "6  gervasio      bou  33761658.0       mendoza    no     23-09-2023\n",
       "7   brígida   angulo  22169546.0         chaco    no     2024-05-02\n",
       "8    glauco    fabra         NaN       cordoba    sí     07-06-2023\n",
       "9  trinidad  company  12192872.0       neuquen  nulo     30-10-2024"
      ]
     },
     "execution_count": 3,
     "metadata": {},
     "output_type": "execute_result"
    }
   ],
   "source": [
    "df.head(10)"
   ]
  },
  {
   "cell_type": "markdown",
   "id": "0764fe53",
   "metadata": {},
   "source": [
    "Visualizacion de los ultimos 10 elementos de DataFrame"
   ]
  },
  {
   "cell_type": "code",
   "execution_count": 29,
   "id": "bc6424b9",
   "metadata": {},
   "outputs": [
    {
     "data": {
      "text/html": [
       "<div>\n",
       "<style scoped>\n",
       "    .dataframe tbody tr th:only-of-type {\n",
       "        vertical-align: middle;\n",
       "    }\n",
       "\n",
       "    .dataframe tbody tr th {\n",
       "        vertical-align: top;\n",
       "    }\n",
       "\n",
       "    .dataframe thead th {\n",
       "        text-align: right;\n",
       "    }\n",
       "</style>\n",
       "<table border=\"1\" class=\"dataframe\">\n",
       "  <thead>\n",
       "    <tr style=\"text-align: right;\">\n",
       "      <th></th>\n",
       "      <th>nombre</th>\n",
       "      <th>apellido</th>\n",
       "      <th>dni</th>\n",
       "      <th>provincia</th>\n",
       "      <th>voto</th>\n",
       "      <th>fecha_votacion</th>\n",
       "    </tr>\n",
       "  </thead>\n",
       "  <tbody>\n",
       "    <tr>\n",
       "      <th>91</th>\n",
       "      <td>alma</td>\n",
       "      <td>Pereyra</td>\n",
       "      <td>11121314.0</td>\n",
       "      <td>mendoza</td>\n",
       "      <td>no</td>\n",
       "      <td>17-09-2023</td>\n",
       "    </tr>\n",
       "    <tr>\n",
       "      <th>92</th>\n",
       "      <td>alejandro</td>\n",
       "      <td>Bazan</td>\n",
       "      <td>12131415.0</td>\n",
       "      <td>chaco</td>\n",
       "      <td>nulo</td>\n",
       "      <td>16-09-2023</td>\n",
       "    </tr>\n",
       "    <tr>\n",
       "      <th>93</th>\n",
       "      <td>marcos</td>\n",
       "      <td>NaN</td>\n",
       "      <td>NaN</td>\n",
       "      <td>salta</td>\n",
       "      <td>sí</td>\n",
       "      <td>15-09-2023</td>\n",
       "    </tr>\n",
       "    <tr>\n",
       "      <th>94</th>\n",
       "      <td>yesica</td>\n",
       "      <td>Ospina</td>\n",
       "      <td>13141516.0</td>\n",
       "      <td>buenos aires</td>\n",
       "      <td>no</td>\n",
       "      <td>2023-09-14</td>\n",
       "    </tr>\n",
       "    <tr>\n",
       "      <th>95</th>\n",
       "      <td>leandro</td>\n",
       "      <td>Torres</td>\n",
       "      <td>14151617.0</td>\n",
       "      <td>cordoba</td>\n",
       "      <td>sí</td>\n",
       "      <td>13-09-2023</td>\n",
       "    </tr>\n",
       "    <tr>\n",
       "      <th>96</th>\n",
       "      <td>carla</td>\n",
       "      <td>Vidal</td>\n",
       "      <td>15161718.0</td>\n",
       "      <td>misiones</td>\n",
       "      <td>nulo</td>\n",
       "      <td>2023-09-12</td>\n",
       "    </tr>\n",
       "    <tr>\n",
       "      <th>97</th>\n",
       "      <td>federico</td>\n",
       "      <td>Barrios</td>\n",
       "      <td>16171819.0</td>\n",
       "      <td>neuquen</td>\n",
       "      <td>no</td>\n",
       "      <td>11-09-2023</td>\n",
       "    </tr>\n",
       "    <tr>\n",
       "      <th>98</th>\n",
       "      <td>belen</td>\n",
       "      <td>Vera</td>\n",
       "      <td>17181920.0</td>\n",
       "      <td>tucuman</td>\n",
       "      <td>sí</td>\n",
       "      <td>2023-09-10</td>\n",
       "    </tr>\n",
       "    <tr>\n",
       "      <th>99</th>\n",
       "      <td>gustavo</td>\n",
       "      <td>Gauna</td>\n",
       "      <td>18192021.0</td>\n",
       "      <td>santa fe</td>\n",
       "      <td>nulo</td>\n",
       "      <td>09-09-2023</td>\n",
       "    </tr>\n",
       "    <tr>\n",
       "      <th>100</th>\n",
       "      <td>rocio</td>\n",
       "      <td>Avila</td>\n",
       "      <td>19202122.0</td>\n",
       "      <td>formosa</td>\n",
       "      <td>no</td>\n",
       "      <td>08-09-2023</td>\n",
       "    </tr>\n",
       "  </tbody>\n",
       "</table>\n",
       "</div>"
      ],
      "text/plain": [
       "        nombre apellido         dni     provincia  voto fecha_votacion\n",
       "91        alma  Pereyra  11121314.0       mendoza    no     17-09-2023\n",
       "92   alejandro    Bazan  12131415.0         chaco  nulo     16-09-2023\n",
       "93      marcos      NaN         NaN         salta    sí     15-09-2023\n",
       "94      yesica   Ospina  13141516.0  buenos aires    no     2023-09-14\n",
       "95     leandro   Torres  14151617.0       cordoba    sí     13-09-2023\n",
       "96       carla    Vidal  15161718.0      misiones  nulo     2023-09-12\n",
       "97    federico  Barrios  16171819.0       neuquen    no     11-09-2023\n",
       "98       belen     Vera  17181920.0       tucuman    sí     2023-09-10\n",
       "99     gustavo    Gauna  18192021.0      santa fe  nulo     09-09-2023\n",
       "100      rocio    Avila  19202122.0       formosa    no     08-09-2023"
      ]
     },
     "execution_count": 29,
     "metadata": {},
     "output_type": "execute_result"
    }
   ],
   "source": [
    "df.tail(10)"
   ]
  },
  {
   "cell_type": "markdown",
   "id": "6f5d4266",
   "metadata": {},
   "source": [
    "Visualizacion de la informacion general del DataFrame (`Columnas`, `Valores no nulos`, `Tipos de datos`)"
   ]
  },
  {
   "cell_type": "code",
   "execution_count": 5,
   "id": "8906eb62",
   "metadata": {},
   "outputs": [
    {
     "name": "stdout",
     "output_type": "stream",
     "text": [
      "<class 'pandas.core.frame.DataFrame'>\n",
      "RangeIndex: 101 entries, 0 to 100\n",
      "Data columns (total 6 columns):\n",
      " #   Column          Non-Null Count  Dtype  \n",
      "---  ------          --------------  -----  \n",
      " 0   nombre          91 non-null     object \n",
      " 1   apellido        94 non-null     object \n",
      " 2   dni             90 non-null     float64\n",
      " 3   provincia       95 non-null     object \n",
      " 4   voto            96 non-null     object \n",
      " 5   fecha_votacion  95 non-null     object \n",
      "dtypes: float64(1), object(5)\n",
      "memory usage: 4.9+ KB\n"
     ]
    }
   ],
   "source": [
    "df.info()"
   ]
  },
  {
   "cell_type": "markdown",
   "id": "cd0b727d",
   "metadata": {},
   "source": [
    "Conteo de valores nulos por columna"
   ]
  },
  {
   "cell_type": "code",
   "execution_count": 6,
   "id": "f16e680c",
   "metadata": {},
   "outputs": [
    {
     "data": {
      "text/plain": [
       "nombre            10\n",
       "apellido           7\n",
       "dni               11\n",
       "provincia          6\n",
       "voto               5\n",
       "fecha_votacion     6\n",
       "dtype: int64"
      ]
     },
     "execution_count": 6,
     "metadata": {},
     "output_type": "execute_result"
    }
   ],
   "source": [
    "df.isnull().sum()"
   ]
  },
  {
   "cell_type": "markdown",
   "id": "62901ccc",
   "metadata": {},
   "source": [
    "### Limpieza y Normalizacion de Datos"
   ]
  },
  {
   "cell_type": "markdown",
   "id": "a556acad",
   "metadata": {},
   "source": [
    "Eliminamos los datos vacios en las columnas de la DataFrame"
   ]
  },
  {
   "cell_type": "code",
   "execution_count": 41,
   "id": "7945eb23",
   "metadata": {},
   "outputs": [],
   "source": [
    "df_2 = df.dropna(subset=['nombre','apellido','dni','provincia','voto','fecha_votacion'])"
   ]
  },
  {
   "cell_type": "markdown",
   "id": "7395b528",
   "metadata": {},
   "source": [
    "Se hace un conteo de los elementos vacios todas las columnas"
   ]
  },
  {
   "cell_type": "code",
   "execution_count": 42,
   "id": "9582190b",
   "metadata": {},
   "outputs": [
    {
     "data": {
      "text/plain": [
       "nombre            0\n",
       "apellido          0\n",
       "dni               0\n",
       "provincia         0\n",
       "voto              0\n",
       "fecha_votacion    0\n",
       "dtype: int64"
      ]
     },
     "execution_count": 42,
     "metadata": {},
     "output_type": "execute_result"
    }
   ],
   "source": [
    "df_2.isnull().sum()"
   ]
  },
  {
   "cell_type": "markdown",
   "id": "6e76bec8",
   "metadata": {},
   "source": [
    "Con el `str.title()` pasamos las columnas `nombre`, `apellido`, `provincia` a formato titulo (Primera letra con Mayuscula)"
   ]
  },
  {
   "cell_type": "code",
   "execution_count": 59,
   "id": "8acfdc06",
   "metadata": {},
   "outputs": [
    {
     "name": "stderr",
     "output_type": "stream",
     "text": [
      "C:\\Users\\IPF-2025\\AppData\\Local\\Temp\\ipykernel_940\\3462428694.py:1: SettingWithCopyWarning: \n",
      "A value is trying to be set on a copy of a slice from a DataFrame.\n",
      "Try using .loc[row_indexer,col_indexer] = value instead\n",
      "\n",
      "See the caveats in the documentation: https://pandas.pydata.org/pandas-docs/stable/user_guide/indexing.html#returning-a-view-versus-a-copy\n",
      "  df_2['apellido'] = df_2['apellido'].str.title()\n",
      "C:\\Users\\IPF-2025\\AppData\\Local\\Temp\\ipykernel_940\\3462428694.py:2: SettingWithCopyWarning: \n",
      "A value is trying to be set on a copy of a slice from a DataFrame.\n",
      "Try using .loc[row_indexer,col_indexer] = value instead\n",
      "\n",
      "See the caveats in the documentation: https://pandas.pydata.org/pandas-docs/stable/user_guide/indexing.html#returning-a-view-versus-a-copy\n",
      "  df_2['nombre'] = df_2['nombre'].str.title()\n",
      "C:\\Users\\IPF-2025\\AppData\\Local\\Temp\\ipykernel_940\\3462428694.py:3: SettingWithCopyWarning: \n",
      "A value is trying to be set on a copy of a slice from a DataFrame.\n",
      "Try using .loc[row_indexer,col_indexer] = value instead\n",
      "\n",
      "See the caveats in the documentation: https://pandas.pydata.org/pandas-docs/stable/user_guide/indexing.html#returning-a-view-versus-a-copy\n",
      "  df_2['provincia'] = df_2['provincia'].str.title()\n"
     ]
    }
   ],
   "source": [
    "df_2['apellido'] = df_2['apellido'].str.title()\n",
    "df_2['nombre'] = df_2['nombre'].str.title()\n",
    "df_2['provincia'] = df_2['provincia'].str.title()\n"
   ]
  },
  {
   "cell_type": "markdown",
   "id": "79d9db5e",
   "metadata": {},
   "source": [
    "Pasamos la columna `dni` a tipo int"
   ]
  },
  {
   "cell_type": "code",
   "execution_count": 44,
   "id": "d460cd31",
   "metadata": {},
   "outputs": [
    {
     "name": "stderr",
     "output_type": "stream",
     "text": [
      "C:\\Users\\IPF-2025\\AppData\\Local\\Temp\\ipykernel_940\\943786720.py:1: SettingWithCopyWarning: \n",
      "A value is trying to be set on a copy of a slice from a DataFrame.\n",
      "Try using .loc[row_indexer,col_indexer] = value instead\n",
      "\n",
      "See the caveats in the documentation: https://pandas.pydata.org/pandas-docs/stable/user_guide/indexing.html#returning-a-view-versus-a-copy\n",
      "  df_2['dni'] = df_2['dni'].astype(int)\n"
     ]
    }
   ],
   "source": [
    "df_2['dni'] = df_2['dni'].astype(int)"
   ]
  },
  {
   "cell_type": "markdown",
   "id": "efd0b2d4",
   "metadata": {},
   "source": [
    "Pasamos la columna `fecha_votacion` a datatime"
   ]
  },
  {
   "cell_type": "code",
   "execution_count": null,
   "id": "177459d3",
   "metadata": {},
   "outputs": [
    {
     "name": "stderr",
     "output_type": "stream",
     "text": [
      "C:\\Users\\IPF-2025\\AppData\\Local\\Temp\\ipykernel_940\\1749965209.py:1: SettingWithCopyWarning: \n",
      "A value is trying to be set on a copy of a slice from a DataFrame.\n",
      "Try using .loc[row_indexer,col_indexer] = value instead\n",
      "\n",
      "See the caveats in the documentation: https://pandas.pydata.org/pandas-docs/stable/user_guide/indexing.html#returning-a-view-versus-a-copy\n",
      "  df_2['fecha_votacion'] = pd.to_datetime(df_nuevo['fecha_votacion'], format='%Y-%m-%d', errors='coerce')\n"
     ]
    }
   ],
   "source": [
    "df_2['fecha_votacion'] = pd.to_datetime(df_2['fecha_votacion'], errors='coerce')"
   ]
  },
  {
   "cell_type": "markdown",
   "id": "dba492ea",
   "metadata": {},
   "source": [
    "Eliminamos nuevamente los datos nulos de el DataFrame"
   ]
  },
  {
   "cell_type": "code",
   "execution_count": 53,
   "id": "4a15430c",
   "metadata": {},
   "outputs": [],
   "source": [
    "df_2 = df.dropna(subset=['nombre','apellido','dni','provincia','voto','fecha_votacion'])"
   ]
  },
  {
   "cell_type": "markdown",
   "id": "f107027b",
   "metadata": {},
   "source": [
    "Pasamos la columna `voto` a Mayusculas"
   ]
  },
  {
   "cell_type": "code",
   "execution_count": 56,
   "id": "b600464e",
   "metadata": {},
   "outputs": [
    {
     "name": "stderr",
     "output_type": "stream",
     "text": [
      "C:\\Users\\IPF-2025\\AppData\\Local\\Temp\\ipykernel_940\\833321144.py:1: SettingWithCopyWarning: \n",
      "A value is trying to be set on a copy of a slice from a DataFrame.\n",
      "Try using .loc[row_indexer,col_indexer] = value instead\n",
      "\n",
      "See the caveats in the documentation: https://pandas.pydata.org/pandas-docs/stable/user_guide/indexing.html#returning-a-view-versus-a-copy\n",
      "  df_2['voto'] =df_2['voto'].str.upper()\n"
     ]
    }
   ],
   "source": [
    "df_2['voto'] =df_2['voto'].str.upper()"
   ]
  },
  {
   "cell_type": "markdown",
   "id": "24ec2575",
   "metadata": {},
   "source": [
    "Conteo por columnas y Visualizacion de los primeros 20 elementos de los datos nulos para verificar que no quede ninguno"
   ]
  },
  {
   "cell_type": "code",
   "execution_count": 54,
   "id": "37834c60",
   "metadata": {},
   "outputs": [
    {
     "data": {
      "text/plain": [
       "nombre            0\n",
       "apellido          0\n",
       "dni               0\n",
       "provincia         0\n",
       "voto              0\n",
       "fecha_votacion    0\n",
       "dtype: int64"
      ]
     },
     "execution_count": 54,
     "metadata": {},
     "output_type": "execute_result"
    }
   ],
   "source": [
    "df_2.isnull().sum()"
   ]
  },
  {
   "cell_type": "code",
   "execution_count": 60,
   "id": "cd2c181c",
   "metadata": {},
   "outputs": [
    {
     "data": {
      "text/html": [
       "<div>\n",
       "<style scoped>\n",
       "    .dataframe tbody tr th:only-of-type {\n",
       "        vertical-align: middle;\n",
       "    }\n",
       "\n",
       "    .dataframe tbody tr th {\n",
       "        vertical-align: top;\n",
       "    }\n",
       "\n",
       "    .dataframe thead th {\n",
       "        text-align: right;\n",
       "    }\n",
       "</style>\n",
       "<table border=\"1\" class=\"dataframe\">\n",
       "  <thead>\n",
       "    <tr style=\"text-align: right;\">\n",
       "      <th></th>\n",
       "      <th>nombre</th>\n",
       "      <th>apellido</th>\n",
       "      <th>dni</th>\n",
       "      <th>provincia</th>\n",
       "      <th>voto</th>\n",
       "      <th>fecha_votacion</th>\n",
       "    </tr>\n",
       "  </thead>\n",
       "  <tbody>\n",
       "    <tr>\n",
       "      <th>0</th>\n",
       "      <td>Pánfilo</td>\n",
       "      <td>Pombo</td>\n",
       "      <td>34787190.0</td>\n",
       "      <td>Buenos Aires</td>\n",
       "      <td>NULO</td>\n",
       "      <td>2024-11-22</td>\n",
       "    </tr>\n",
       "    <tr>\n",
       "      <th>1</th>\n",
       "      <td>Albina</td>\n",
       "      <td>Heredia</td>\n",
       "      <td>48336819.0</td>\n",
       "      <td>Santa Fe</td>\n",
       "      <td>NULO</td>\n",
       "      <td>2024-04-24</td>\n",
       "    </tr>\n",
       "    <tr>\n",
       "      <th>4</th>\n",
       "      <td>Matías</td>\n",
       "      <td>Esteban</td>\n",
       "      <td>30599927.0</td>\n",
       "      <td>Chaco</td>\n",
       "      <td>NO</td>\n",
       "      <td>10-07-2023</td>\n",
       "    </tr>\n",
       "    <tr>\n",
       "      <th>6</th>\n",
       "      <td>Gervasio</td>\n",
       "      <td>Bou</td>\n",
       "      <td>33761658.0</td>\n",
       "      <td>Mendoza</td>\n",
       "      <td>NO</td>\n",
       "      <td>23-09-2023</td>\n",
       "    </tr>\n",
       "    <tr>\n",
       "      <th>7</th>\n",
       "      <td>Brígida</td>\n",
       "      <td>Angulo</td>\n",
       "      <td>22169546.0</td>\n",
       "      <td>Chaco</td>\n",
       "      <td>NO</td>\n",
       "      <td>2024-05-02</td>\n",
       "    </tr>\n",
       "    <tr>\n",
       "      <th>9</th>\n",
       "      <td>Trinidad</td>\n",
       "      <td>Company</td>\n",
       "      <td>12192872.0</td>\n",
       "      <td>Neuquen</td>\n",
       "      <td>NULO</td>\n",
       "      <td>30-10-2024</td>\n",
       "    </tr>\n",
       "    <tr>\n",
       "      <th>10</th>\n",
       "      <td>Verónica</td>\n",
       "      <td>Posada</td>\n",
       "      <td>35293135.0</td>\n",
       "      <td>Santa Fe</td>\n",
       "      <td>NO</td>\n",
       "      <td>2024-09-15</td>\n",
       "    </tr>\n",
       "    <tr>\n",
       "      <th>11</th>\n",
       "      <td>Anastasio</td>\n",
       "      <td>Galvez</td>\n",
       "      <td>42313020.0</td>\n",
       "      <td>Santa Fe</td>\n",
       "      <td>NO</td>\n",
       "      <td>01-11-2023</td>\n",
       "    </tr>\n",
       "    <tr>\n",
       "      <th>14</th>\n",
       "      <td>Baudelio</td>\n",
       "      <td>Sanabria</td>\n",
       "      <td>24036189.0</td>\n",
       "      <td>Tucuman</td>\n",
       "      <td>NO</td>\n",
       "      <td>2024-04-04</td>\n",
       "    </tr>\n",
       "    <tr>\n",
       "      <th>17</th>\n",
       "      <td>Juan José</td>\n",
       "      <td>Suarez</td>\n",
       "      <td>29043980.0</td>\n",
       "      <td>Santa Fe</td>\n",
       "      <td>NO</td>\n",
       "      <td>23-10-2024</td>\n",
       "    </tr>\n",
       "    <tr>\n",
       "      <th>19</th>\n",
       "      <td>Ramiro</td>\n",
       "      <td>Checa</td>\n",
       "      <td>31711663.0</td>\n",
       "      <td>Chaco</td>\n",
       "      <td>NO</td>\n",
       "      <td>2024-08-25</td>\n",
       "    </tr>\n",
       "    <tr>\n",
       "      <th>24</th>\n",
       "      <td>Encarnación</td>\n",
       "      <td>Seguí</td>\n",
       "      <td>49044231.0</td>\n",
       "      <td>Cordoba</td>\n",
       "      <td>NULO</td>\n",
       "      <td>26-11-2024</td>\n",
       "    </tr>\n",
       "    <tr>\n",
       "      <th>25</th>\n",
       "      <td>Guiomar</td>\n",
       "      <td>Aramburu</td>\n",
       "      <td>17514893.0</td>\n",
       "      <td>Corrientes</td>\n",
       "      <td>SÍ</td>\n",
       "      <td>22-11-2024</td>\n",
       "    </tr>\n",
       "    <tr>\n",
       "      <th>26</th>\n",
       "      <td>Nerea</td>\n",
       "      <td>Fajardo</td>\n",
       "      <td>44318980.0</td>\n",
       "      <td>Corrientes</td>\n",
       "      <td>NULO</td>\n",
       "      <td>2024-07-05</td>\n",
       "    </tr>\n",
       "    <tr>\n",
       "      <th>32</th>\n",
       "      <td>Lucas</td>\n",
       "      <td>Pozo</td>\n",
       "      <td>18472805.0</td>\n",
       "      <td>Neuquen</td>\n",
       "      <td>SÍ</td>\n",
       "      <td>2024-05-03</td>\n",
       "    </tr>\n",
       "    <tr>\n",
       "      <th>36</th>\n",
       "      <td>Roberto</td>\n",
       "      <td>Sevillano</td>\n",
       "      <td>32940620.0</td>\n",
       "      <td>Mendoza</td>\n",
       "      <td>SÍ</td>\n",
       "      <td>06-08-2024</td>\n",
       "    </tr>\n",
       "    <tr>\n",
       "      <th>37</th>\n",
       "      <td>Rufino</td>\n",
       "      <td>Jordá</td>\n",
       "      <td>25186385.0</td>\n",
       "      <td>Cordoba</td>\n",
       "      <td>SÍ</td>\n",
       "      <td>2023-05-13</td>\n",
       "    </tr>\n",
       "    <tr>\n",
       "      <th>39</th>\n",
       "      <td>Gregorio</td>\n",
       "      <td>Jódar</td>\n",
       "      <td>40808148.0</td>\n",
       "      <td>Tucuman</td>\n",
       "      <td>NO</td>\n",
       "      <td>17-12-2024</td>\n",
       "    </tr>\n",
       "    <tr>\n",
       "      <th>40</th>\n",
       "      <td>Lupita</td>\n",
       "      <td>Prado</td>\n",
       "      <td>14649451.0</td>\n",
       "      <td>Tucuman</td>\n",
       "      <td>SÍ</td>\n",
       "      <td>2023-09-27</td>\n",
       "    </tr>\n",
       "    <tr>\n",
       "      <th>41</th>\n",
       "      <td>Miguel Ángel</td>\n",
       "      <td>Castañeda</td>\n",
       "      <td>48066419.0</td>\n",
       "      <td>Misiones</td>\n",
       "      <td>NO</td>\n",
       "      <td>13-08-2023</td>\n",
       "    </tr>\n",
       "  </tbody>\n",
       "</table>\n",
       "</div>"
      ],
      "text/plain": [
       "          nombre   apellido         dni     provincia  voto fecha_votacion\n",
       "0        Pánfilo      Pombo  34787190.0  Buenos Aires  NULO     2024-11-22\n",
       "1         Albina    Heredia  48336819.0      Santa Fe  NULO     2024-04-24\n",
       "4         Matías    Esteban  30599927.0         Chaco    NO     10-07-2023\n",
       "6       Gervasio        Bou  33761658.0       Mendoza    NO     23-09-2023\n",
       "7        Brígida     Angulo  22169546.0         Chaco    NO     2024-05-02\n",
       "9       Trinidad    Company  12192872.0       Neuquen  NULO     30-10-2024\n",
       "10      Verónica     Posada  35293135.0      Santa Fe    NO     2024-09-15\n",
       "11     Anastasio     Galvez  42313020.0      Santa Fe    NO     01-11-2023\n",
       "14      Baudelio   Sanabria  24036189.0       Tucuman    NO     2024-04-04\n",
       "17     Juan José     Suarez  29043980.0      Santa Fe    NO     23-10-2024\n",
       "19        Ramiro      Checa  31711663.0         Chaco    NO     2024-08-25\n",
       "24   Encarnación      Seguí  49044231.0       Cordoba  NULO     26-11-2024\n",
       "25       Guiomar   Aramburu  17514893.0    Corrientes    SÍ     22-11-2024\n",
       "26         Nerea    Fajardo  44318980.0    Corrientes  NULO     2024-07-05\n",
       "32         Lucas       Pozo  18472805.0       Neuquen    SÍ     2024-05-03\n",
       "36       Roberto  Sevillano  32940620.0       Mendoza    SÍ     06-08-2024\n",
       "37        Rufino      Jordá  25186385.0       Cordoba    SÍ     2023-05-13\n",
       "39      Gregorio      Jódar  40808148.0       Tucuman    NO     17-12-2024\n",
       "40        Lupita      Prado  14649451.0       Tucuman    SÍ     2023-09-27\n",
       "41  Miguel Ángel  Castañeda  48066419.0      Misiones    NO     13-08-2023"
      ]
     },
     "execution_count": 60,
     "metadata": {},
     "output_type": "execute_result"
    }
   ],
   "source": [
    "df_2.head(20)\n"
   ]
  },
  {
   "cell_type": "markdown",
   "id": "8634854d",
   "metadata": {},
   "source": [
    "### Obtencion de Estadisticas Descriptivas"
   ]
  },
  {
   "cell_type": "markdown",
   "id": "2a68893c",
   "metadata": {},
   "source": [
    "Usamos la funcion `describe()` para que nos muestre una breve descriocion de las estadisticas del DataFrame"
   ]
  },
  {
   "cell_type": "code",
   "execution_count": 58,
   "id": "a9f23ae4",
   "metadata": {},
   "outputs": [
    {
     "data": {
      "text/html": [
       "<div>\n",
       "<style scoped>\n",
       "    .dataframe tbody tr th:only-of-type {\n",
       "        vertical-align: middle;\n",
       "    }\n",
       "\n",
       "    .dataframe tbody tr th {\n",
       "        vertical-align: top;\n",
       "    }\n",
       "\n",
       "    .dataframe thead th {\n",
       "        text-align: right;\n",
       "    }\n",
       "</style>\n",
       "<table border=\"1\" class=\"dataframe\">\n",
       "  <thead>\n",
       "    <tr style=\"text-align: right;\">\n",
       "      <th></th>\n",
       "      <th>dni</th>\n",
       "    </tr>\n",
       "  </thead>\n",
       "  <tbody>\n",
       "    <tr>\n",
       "      <th>count</th>\n",
       "      <td>6.300000e+01</td>\n",
       "    </tr>\n",
       "    <tr>\n",
       "      <th>mean</th>\n",
       "      <td>3.922507e+07</td>\n",
       "    </tr>\n",
       "    <tr>\n",
       "      <th>std</th>\n",
       "      <td>2.512993e+07</td>\n",
       "    </tr>\n",
       "    <tr>\n",
       "      <th>min</th>\n",
       "      <td>1.011121e+07</td>\n",
       "    </tr>\n",
       "    <tr>\n",
       "      <th>25%</th>\n",
       "      <td>1.833241e+07</td>\n",
       "    </tr>\n",
       "    <tr>\n",
       "      <th>50%</th>\n",
       "      <td>3.344557e+07</td>\n",
       "    </tr>\n",
       "    <tr>\n",
       "      <th>75%</th>\n",
       "      <td>5.235601e+07</td>\n",
       "    </tr>\n",
       "    <tr>\n",
       "      <th>max</th>\n",
       "      <td>9.900112e+07</td>\n",
       "    </tr>\n",
       "  </tbody>\n",
       "</table>\n",
       "</div>"
      ],
      "text/plain": [
       "                dni\n",
       "count  6.300000e+01\n",
       "mean   3.922507e+07\n",
       "std    2.512993e+07\n",
       "min    1.011121e+07\n",
       "25%    1.833241e+07\n",
       "50%    3.344557e+07\n",
       "75%    5.235601e+07\n",
       "max    9.900112e+07"
      ]
     },
     "execution_count": 58,
     "metadata": {},
     "output_type": "execute_result"
    }
   ],
   "source": [
    "df_2.describe()"
   ]
  },
  {
   "cell_type": "markdown",
   "id": "83a52a1d",
   "metadata": {},
   "source": [
    "Agrupamos las columnas `provincia`y  `voto`, usamos la funcion `size()` para contar los tipos de votos por provincia."
   ]
  },
  {
   "cell_type": "code",
   "execution_count": 63,
   "id": "e4075787",
   "metadata": {},
   "outputs": [
    {
     "name": "stdout",
     "output_type": "stream",
     "text": [
      "provincia     voto\n",
      "Buenos Aires  NO      3\n",
      "              NULO    2\n",
      "              SÍ      2\n",
      "Chaco         NO      3\n",
      "              NULO    2\n",
      "              SÍ      1\n",
      "Cordoba       NO      1\n",
      "              NULO    2\n",
      "              SÍ      3\n",
      "Corrientes    NULO    1\n",
      "              SÍ      2\n",
      "Formosa       NO      2\n",
      "              NULO    2\n",
      "              SÍ      1\n",
      "Mendoza       NO      3\n",
      "              NULO    1\n",
      "              SÍ      2\n",
      "Misiones      NO      1\n",
      "              NULO    2\n",
      "Neuquen       NO      2\n",
      "              NULO    1\n",
      "              SÍ      2\n",
      "Salta         NO      1\n",
      "              NULO    1\n",
      "              SÍ      2\n",
      "San Juan      SÍ      1\n",
      "Santa Fe      NO      6\n",
      "              NULO    3\n",
      "Tucuman       NO      4\n",
      "              SÍ      4\n",
      "dtype: int64\n"
     ]
    }
   ],
   "source": [
    "provincia_voto = df_2.groupby(['provincia', 'voto']).size()\n",
    "print(provincia_voto)"
   ]
  },
  {
   "cell_type": "markdown",
   "id": "38a22064",
   "metadata": {},
   "source": [
    "### Visualizacion de Datos con Matplotlib"
   ]
  },
  {
   "cell_type": "markdown",
   "id": "cc9c52b0",
   "metadata": {},
   "source": [
    "Usamos Matplotplib para crear visualizaciones de la data frame, en este caso se creo una variable que cuenta la cantidad de votos por provincia"
   ]
  },
  {
   "cell_type": "code",
   "execution_count": 79,
   "id": "ab2f01a3",
   "metadata": {},
   "outputs": [
    {
     "name": "stdout",
     "output_type": "stream",
     "text": [
      "provincia     voto\n",
      "Buenos Aires  NO      3\n",
      "              NULO    2\n",
      "              SÍ      2\n",
      "Chaco         NO      3\n",
      "              NULO    2\n",
      "              SÍ      1\n",
      "Cordoba       SÍ      3\n",
      "              NULO    2\n",
      "              NO      1\n",
      "Corrientes    SÍ      2\n",
      "              NULO    1\n",
      "Formosa       NO      2\n",
      "              NULO    2\n",
      "              SÍ      1\n",
      "Mendoza       NO      3\n",
      "              SÍ      2\n",
      "              NULO    1\n",
      "Misiones      NULO    2\n",
      "              NO      1\n",
      "Neuquen       NO      2\n",
      "              SÍ      2\n",
      "              NULO    1\n",
      "Salta         SÍ      2\n",
      "              NO      1\n",
      "              NULO    1\n",
      "San Juan      SÍ      1\n",
      "Santa Fe      NO      6\n",
      "              NULO    3\n",
      "Tucuman       NO      4\n",
      "              SÍ      4\n",
      "Name: count, dtype: int64\n"
     ]
    }
   ],
   "source": [
    "mayor_voto = df_2.groupby('provincia')['voto'].value_counts()\n",
    "print(mayor_voto)"
   ]
  },
  {
   "cell_type": "code",
   "execution_count": 85,
   "id": "d5ae552d",
   "metadata": {},
   "outputs": [
    {
     "data": {
      "image/png": "[encoded data removed]",
      "text/plain": [
       "<Figure size 640x480 with 1 Axes>"
      ]
     },
     "metadata": {},
     "output_type": "display_data"
    }
   ],
   "source": [
    "mayor_voto.plot(kind='barh', color='pink', edgecolor='black')\n",
    "plt.Figure(figsize=(5,6))\n",
    "plt.xlabel=('Voto')\n",
    "plt.ylabel=('Provincia')\n",
    "plt.grid (axis='x', linestyle='-')\n",
    "plt.show()\n",
    "\n"
   ]
  },
  {
   "cell_type": "markdown",
   "id": "13a3b4bf",
   "metadata": {},
   "source": [
    "### Exportacion a archivo SQlite"
   ]
  },
  {
   "cell_type": "markdown",
   "id": "695cb30f",
   "metadata": {},
   "source": [
    "Se utiliza la funcionalidad de pandas para guardar el DataFrame en una base de Datos SQlite"
   ]
  },
  {
   "cell_type": "code",
   "execution_count": 74,
   "id": "db6801aa",
   "metadata": {},
   "outputs": [
    {
     "data": {
      "text/plain": [
       "63"
      ]
     },
     "execution_count": 74,
     "metadata": {},
     "output_type": "execute_result"
    }
   ],
   "source": [
    "conn = sqlite3.connect('votaciones.db')\n",
    "df_2.to_sql('votaciones.db', conn, index=False)"
   ]
  },
  {
   "cell_type": "code",
   "execution_count": 75,
   "id": "e9c65c4f",
   "metadata": {},
   "outputs": [
    {
     "data": {
      "text/html": [
       "<div>\n",
       "<style scoped>\n",
       "    .dataframe tbody tr th:only-of-type {\n",
       "        vertical-align: middle;\n",
       "    }\n",
       "\n",
       "    .dataframe tbody tr th {\n",
       "        vertical-align: top;\n",
       "    }\n",
       "\n",
       "    .dataframe thead th {\n",
       "        text-align: right;\n",
       "    }\n",
       "</style>\n",
       "<table border=\"1\" class=\"dataframe\">\n",
       "  <thead>\n",
       "    <tr style=\"text-align: right;\">\n",
       "      <th></th>\n",
       "      <th>nombre</th>\n",
       "      <th>apellido</th>\n",
       "      <th>dni</th>\n",
       "      <th>provincia</th>\n",
       "      <th>voto</th>\n",
       "      <th>fecha_votacion</th>\n",
       "    </tr>\n",
       "  </thead>\n",
       "  <tbody>\n",
       "    <tr>\n",
       "      <th>0</th>\n",
       "      <td>Pánfilo</td>\n",
       "      <td>Pombo</td>\n",
       "      <td>34787190.0</td>\n",
       "      <td>Buenos Aires</td>\n",
       "      <td>NULO</td>\n",
       "      <td>2024-11-22</td>\n",
       "    </tr>\n",
       "    <tr>\n",
       "      <th>1</th>\n",
       "      <td>Albina</td>\n",
       "      <td>Heredia</td>\n",
       "      <td>48336819.0</td>\n",
       "      <td>Santa Fe</td>\n",
       "      <td>NULO</td>\n",
       "      <td>2024-04-24</td>\n",
       "    </tr>\n",
       "    <tr>\n",
       "      <th>4</th>\n",
       "      <td>Matías</td>\n",
       "      <td>Esteban</td>\n",
       "      <td>30599927.0</td>\n",
       "      <td>Chaco</td>\n",
       "      <td>NO</td>\n",
       "      <td>10-07-2023</td>\n",
       "    </tr>\n",
       "    <tr>\n",
       "      <th>6</th>\n",
       "      <td>Gervasio</td>\n",
       "      <td>Bou</td>\n",
       "      <td>33761658.0</td>\n",
       "      <td>Mendoza</td>\n",
       "      <td>NO</td>\n",
       "      <td>23-09-2023</td>\n",
       "    </tr>\n",
       "    <tr>\n",
       "      <th>7</th>\n",
       "      <td>Brígida</td>\n",
       "      <td>Angulo</td>\n",
       "      <td>22169546.0</td>\n",
       "      <td>Chaco</td>\n",
       "      <td>NO</td>\n",
       "      <td>2024-05-02</td>\n",
       "    </tr>\n",
       "  </tbody>\n",
       "</table>\n",
       "</div>"
      ],
      "text/plain": [
       "     nombre apellido         dni     provincia  voto fecha_votacion\n",
       "0   Pánfilo    Pombo  34787190.0  Buenos Aires  NULO     2024-11-22\n",
       "1    Albina  Heredia  48336819.0      Santa Fe  NULO     2024-04-24\n",
       "4    Matías  Esteban  30599927.0         Chaco    NO     10-07-2023\n",
       "6  Gervasio      Bou  33761658.0       Mendoza    NO     23-09-2023\n",
       "7   Brígida   Angulo  22169546.0         Chaco    NO     2024-05-02"
      ]
     },
     "execution_count": 75,
     "metadata": {},
     "output_type": "execute_result"
    }
   ],
   "source": [
    "df_2.head()"
   ]
  },
  {
   "cell_type": "code",
   "execution_count": 76,
   "id": "c88ec7b4",
   "metadata": {},
   "outputs": [],
   "source": [
    "conn.close()"
   ]
  }
 ],
 "metadata": {
  "kernelspec": {
   "display_name": "env",
   "language": "python",
   "name": "python3"
  },
  "language_info": {
   "codemirror_mode": {
    "name": "ipython",
    "version": 3
   },
   "file_extension": ".py",
   "mimetype": "text/x-python",
   "name": "python",
   "nbconvert_exporter": "python",
   "pygments_lexer": "ipython3",
   "version": "3.13.2"
  }
 },
 "nbformat": 4,
 "nbformat_minor": 5
}
